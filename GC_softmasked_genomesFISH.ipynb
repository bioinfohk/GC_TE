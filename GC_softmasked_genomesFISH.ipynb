{
 "cells": [
  {
   "cell_type": "code",
   "execution_count": 1,
   "metadata": {
    "scrolled": true
   },
   "outputs": [],
   "source": [
    "# Necessary imports for correct working of algorithm. \n",
    "# This algorithm expects \\*.fa files of soft masked species. Data for this plot has been downloaded from Ensembl.org\n",
    "# Also, algorithm uses an improved version of parser (included) from dna_puller library that \n",
    "# reflects size diferrence ('a' vs 'A') of letters in sequences\n",
    "\n",
    "%matplotlib inline\n",
    "\n",
    "import os, json, csv\n",
    "\n",
    "import matplotlib.pyplot as plt\n",
    "from parser import Parser"
   ]
  },
  {
   "cell_type": "code",
   "execution_count": 3,
   "metadata": {},
   "outputs": [],
   "source": [
    "unfiltered_files = os.listdir() # get list of files in current folder\n",
    "filtered_files = []\n",
    "\n",
    "for file in unfiltered_files: # filter only *.fa files\n",
    "    if file[-3:] == '.fa':\n",
    "        filtered_files.append(file)"
   ]
  },
  {
   "cell_type": "code",
   "execution_count": 9,
   "metadata": {},
   "outputs": [],
   "source": [
    "fasta_data = {}\n",
    "for file in filtered_files:\n",
    "    fasta_data[file] = Parser.parse_file(file) # parse data from fasta file and count frequencies of letters for every gene\n",
    "    with open(file + '.json', 'w') as fp: # and save them for future analysis\n",
    "        json.dump(fasta_data[file], fp)"
   ]
  },
  {
   "cell_type": "code",
   "execution_count": 12,
   "metadata": {},
   "outputs": [],
   "source": [
    "species = []\n",
    "\n",
    "for spec in fasta_data.keys(): # generate species scientific name from filename \n",
    "    species.append(spec.split('.')[0])"
   ]
  },
  {
   "cell_type": "code",
   "execution_count": 17,
   "metadata": {},
   "outputs": [],
   "source": [
    "aggregated_data = {}\n",
    "\n",
    "# compute aggregated frequencies for every species\n",
    "for species_key, data in fasta_data.items():\n",
    "    species = species_key.split('.')[0]\n",
    "    aggregated_data[species] = {}\n",
    "    \n",
    "    GC_count = 0\n",
    "    gc_count = 0\n",
    "    \n",
    "    all_count = 0\n",
    "    ALL_count = 0\n",
    "    \n",
    "    # compute aggregated frequencies from saved frequencies of genes\n",
    "    for gene_key, letter_counts in data.items():\n",
    "        gc_count += letter_counts['g'] + letter_counts['c'] + letter_counts['s']\n",
    "        GC_count += letter_counts['G'] + letter_counts['C'] + letter_counts['S']\n",
    "        \n",
    "        aggregated_data[species]['gc'] = gc_count\n",
    "        aggregated_data[species]['GC'] = GC_count\n",
    "        \n",
    "        all_count += letter_counts['g'] + letter_counts['c'] + letter_counts['s'] + letter_counts['a'] + letter_counts['t'] + letter_counts['w']\n",
    "            \n",
    "        ALL_count += letter_counts['G'] + letter_counts['C'] + letter_counts['S'] + letter_counts['A'] + letter_counts['T'] + letter_counts['W']\n",
    "            \n",
    "        aggregated_data[species]['all'] = all_count\n",
    "        aggregated_data[species]['ALL'] = ALL_count"
   ]
  },
  {
   "cell_type": "code",
   "execution_count": 21,
   "metadata": {},
   "outputs": [],
   "source": [
    "# save the aggregated frequecies to file for future analysis\n",
    "with open('species_gc_GC.csv', 'w') as csvfile:\n",
    "    writer = csv.writer(csvfile, delimiter=',')\n",
    "    writer.writerow(['name', 'gc', 'GC', 'all', 'ALL'])\n",
    "    for species, data in aggregated_data.items():\n",
    "        writer.writerow([species, data['gc'], data['GC'], data['all'], data['ALL']])"
   ]
  },
  {
   "cell_type": "code",
   "execution_count": 22,
   "metadata": {},
   "outputs": [],
   "source": [
    "gc_percent = []\n",
    "GC_percent = []\n",
    "\n",
    "# compute GC% and GC% from aggregated values for every species and save them to array for plotting\n",
    "for _, data in aggregated_data.items():\n",
    "    gc_percent.append(float(data['gc'])/float(data['all']))\n",
    "    GC_percent.append(float(data['GC'])/float(data['ALL']))"
   ]
  },
  {
   "cell_type": "code",
   "execution_count": 27,
   "metadata": {},
   "outputs": [
    {
     "data": {
      "image/png": "[encoded data removed]",
      "text/plain": [
       "<Figure size 720x720 with 1 Axes>"
      ]
     },
     "metadata": {
      "needs_background": "light"
     },
     "output_type": "display_data"
    }
   ],
   "source": [
    "figure = plt.figure(figsize=(10,10))\n",
    "# create the plot from computed data\n",
    "plt.scatter(GC_percent, gc_percent)\n",
    "plt.savefig('softmask_genomes.png')"
   ]
  },
  {
   "cell_type": "code",
   "execution_count": null,
   "metadata": {},
   "outputs": [],
   "source": []
  }
 ],
 "metadata": {
  "kernelspec": {
   "display_name": "Python 3",
   "language": "python",
   "name": "python3"
  },
  "language_info": {
   "codemirror_mode": {
    "name": "ipython",
    "version": 3
   },
   "file_extension": ".py",
   "mimetype": "text/x-python",
   "name": "python",
   "nbconvert_exporter": "python",
   "pygments_lexer": "ipython3",
   "version": "3.7.3"
  }
 },
 "nbformat": 4,
 "nbformat_minor": 4
}
